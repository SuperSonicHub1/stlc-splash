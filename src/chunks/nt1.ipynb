{
 "cells": [
  {
   "cell_type": "code",
   "execution_count": 7,
   "metadata": {},
   "outputs": [],
   "source": [
    "enum ExprType {\n",
    "    LiteralInt,\n",
    "    LiteralBool,\n",
    "}\n",
    "type Expr =\n",
    "    | { type: ExprType.LiteralInt, value: number }\n",
    "    | { type: ExprType.LiteralBool, value: boolean }\n"
   ]
  },
  {
   "cell_type": "code",
   "execution_count": null,
   "metadata": {},
   "outputs": [],
   "source": [
    "import { Runtime } from \"jsr:@kawcco/parsebox\"\n",
    "import { OurModule } from \"../grammar.ts\"\n",
    "\n",
    "const { Const, Tuple, Union, Ref, Array, Optional } = Runtime\n",
    "\n",
    "const Tokens = {\n",
    "    True: Const('true'),\n",
    "    False: Const('false'),\n",
    "}\n",
    "\n",
    "const Language = new OurModule({\n",
    "    Expr: Union(\n",
    "        [\n",
    "            Ref<Expr>('Int'),\n",
    "            Ref<Expr>('Bool'),\n",
    "        ]\n",
    "    ),\n",
    "    /// @impl\n",
    "    Bool: __________(\n",
    "        __________,\n",
    "        raw => ({ type: ExprType.LiteralBool, value: raw == \"true\" } satisfies Expr),\n",
    "    ),\n",
    "    Digit: Union([\n",
    "        Const(\"0\"),\n",
    "        Const(\"1\"),\n",
    "        Const(\"2\"),\n",
    "        Const(\"3\"),\n",
    "        Const(\"4\"),\n",
    "        Const(\"5\"),\n",
    "        Const(\"6\"),\n",
    "        Const(\"7\"),\n",
    "        Const(\"8\"),\n",
    "        Const(\"9\"),\n",
    "    ]),\n",
    "    Int: Tuple(\n",
    "        [\n",
    "            Optional(Const(\"-\")),\n",
    "            Ref(\"Digit\"),\n",
    "            Array(Ref(\"Digit\"))\n",
    "        ],\n",
    "        /// @impl map to Expr\n",
    "        __________\n",
    "    ),\n",
    "})"
   ]
  },
  {
   "cell_type": "code",
   "execution_count": 8,
   "metadata": {},
   "outputs": [],
   "source": [
    "enum ValueType {\n",
    "    Int,\n",
    "    Bool,\n",
    "}\n",
    "type Value =\n",
    "    | { type: ValueType.Int, value: number }\n",
    "    | { type: ValueType.Bool, value: boolean }\n",
    "\n",
    "function evaluate(expr: Expr): Value {\n",
    "    switch (expr.type) {\n",
    "        case ExprType.LiteralInt: {\n",
    "            return { type: ValueType.Int, value: expr.value }\n",
    "        }\n",
    "        case ExprType.LiteralBool: {\n",
    "            return { type: ValueType.Bool, value: expr.value }\n",
    "        }\n",
    "    }\n",
    "}"
   ]
  },
  {
   "cell_type": "code",
   "execution_count": 9,
   "metadata": {},
   "outputs": [],
   "source": [
    "//////////////////////////////////// REPL TIME ///////////////////////////////////////\n",
    "import { repl } from \"../repl.ts\"\n",
    "await repl(null, Language, evaluate as never)"
   ]
  }
 ],
 "metadata": {
  "kernelspec": {
   "display_name": "Deno",
   "language": "typescript",
   "name": "deno"
  },
  "language_info": {
   "codemirror_mode": "typescript",
   "file_extension": ".ts",
   "mimetype": "text/x.typescript",
   "name": "typescript",
   "nbconvert_exporter": "script",
   "pygments_lexer": "typescript",
   "version": "5.6.2"
  }
 },
 "nbformat": 4,
 "nbformat_minor": 2
}
